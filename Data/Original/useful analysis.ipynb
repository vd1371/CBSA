{
 "cells": [
  {
   "cell_type": "code",
   "execution_count": 1,
   "metadata": {},
   "outputs": [],
   "source": [
    "import pandas as pd\n",
    "import datetime"
   ]
  },
  {
   "cell_type": "code",
   "execution_count": 2,
   "metadata": {},
   "outputs": [],
   "source": [
    "df = pd.read_excel('analytics_challenge_dataset_ex210911.xlsx')"
   ]
  },
  {
   "cell_type": "code",
   "execution_count": 3,
   "metadata": {},
   "outputs": [
    {
     "data": {
      "text/html": [
       "<div>\n",
       "<style scoped>\n",
       "    .dataframe tbody tr th:only-of-type {\n",
       "        vertical-align: middle;\n",
       "    }\n",
       "\n",
       "    .dataframe tbody tr th {\n",
       "        vertical-align: top;\n",
       "    }\n",
       "\n",
       "    .dataframe thead th {\n",
       "        text-align: right;\n",
       "    }\n",
       "</style>\n",
       "<table border=\"1\" class=\"dataframe\">\n",
       "  <thead>\n",
       "    <tr style=\"text-align: right;\">\n",
       "      <th></th>\n",
       "      <th>docid</th>\n",
       "      <th>comment_count</th>\n",
       "      <th>like_count</th>\n",
       "      <th>dislike_count</th>\n",
       "      <th>love_count</th>\n",
       "      <th>haha_count</th>\n",
       "      <th>wow_count</th>\n",
       "      <th>angry_count</th>\n",
       "      <th>sad_count</th>\n",
       "      <th>share_count</th>\n",
       "      <th>view_count</th>\n",
       "      <th>headline</th>\n",
       "      <th>author*</th>\n",
       "      <th>pubname</th>\n",
       "      <th>pubdate</th>\n",
       "      <th>region</th>\n",
       "      <th>fans_count</th>\n",
       "      <th>author_type</th>\n",
       "      <th>content</th>\n",
       "    </tr>\n",
       "  </thead>\n",
       "  <tbody>\n",
       "    <tr>\n",
       "      <td>0</td>\n",
       "      <td>2020021100002988743</td>\n",
       "      <td>0.0</td>\n",
       "      <td>0.0</td>\n",
       "      <td>0.0</td>\n",
       "      <td>0.0</td>\n",
       "      <td>0.0</td>\n",
       "      <td>0.0</td>\n",
       "      <td>0.0</td>\n",
       "      <td>0.0</td>\n",
       "      <td>0.0</td>\n",
       "      <td>0.0</td>\n",
       "      <td>黃佩君</td>\n",
       "      <td>2b6b5092d1013c7be4b9cf77f33df8f2</td>\n",
       "      <td>Facebook - 群組 或專頁</td>\n",
       "      <td>2020-02-11 00:01:33</td>\n",
       "      <td>Hong Kong</td>\n",
       "      <td>0.0</td>\n",
       "      <td>網紅博客</td>\n",
       "      <td>\\n=====Shared Post=====\\n 宣佈強制檢疫 政府留兩天半空窗期 入境...</td>\n",
       "    </tr>\n",
       "    <tr>\n",
       "      <td>1</td>\n",
       "      <td>2020021100000087375</td>\n",
       "      <td>9.0</td>\n",
       "      <td>57.0</td>\n",
       "      <td>NaN</td>\n",
       "      <td>0.0</td>\n",
       "      <td>0.0</td>\n",
       "      <td>1.0</td>\n",
       "      <td>0.0</td>\n",
       "      <td>6.0</td>\n",
       "      <td>8.0</td>\n",
       "      <td>0.0</td>\n",
       "      <td>近日多左人講大陸可能大亂。當然我早兩個禮拜已經從多方面分析過大陸可能出現經濟、社會、政治問題...</td>\n",
       "      <td>d7b198555346a8567a7bbc2a5c808fea</td>\n",
       "      <td>Facebook - 群組 或專頁</td>\n",
       "      <td>2020-02-11 00:01:59</td>\n",
       "      <td>Hong Kong</td>\n",
       "      <td>3133.0</td>\n",
       "      <td>網紅博客</td>\n",
       "      <td>近日多左人講大陸可能大亂。當然我早兩個禮拜已經從多方面分析過大陸可能出現經濟、社會、政治問題...</td>\n",
       "    </tr>\n",
       "    <tr>\n",
       "      <td>2</td>\n",
       "      <td>2020021100000051790</td>\n",
       "      <td>NaN</td>\n",
       "      <td>0.0</td>\n",
       "      <td>NaN</td>\n",
       "      <td>0.0</td>\n",
       "      <td>0.0</td>\n",
       "      <td>0.0</td>\n",
       "      <td>0.0</td>\n",
       "      <td>0.0</td>\n",
       "      <td>0.0</td>\n",
       "      <td>221.0</td>\n",
       "      <td>關愛香港，情繫中華！</td>\n",
       "      <td>77c0271fe5557f54dc91ab4d1feb0117</td>\n",
       "      <td>Facebook - 群組 或專頁</td>\n",
       "      <td>2020-02-11 00:02:02</td>\n",
       "      <td>Hong Kong</td>\n",
       "      <td>18197.0</td>\n",
       "      <td>網民</td>\n",
       "      <td>\\n=====Shared Post=====\\n  人間有情 人間總充滿溫暖 !彩虹始終...</td>\n",
       "    </tr>\n",
       "    <tr>\n",
       "      <td>3</td>\n",
       "      <td>2020021100000098619</td>\n",
       "      <td>NaN</td>\n",
       "      <td>0.0</td>\n",
       "      <td>0.0</td>\n",
       "      <td>NaN</td>\n",
       "      <td>NaN</td>\n",
       "      <td>NaN</td>\n",
       "      <td>NaN</td>\n",
       "      <td>NaN</td>\n",
       "      <td>NaN</td>\n",
       "      <td>0.0</td>\n",
       "      <td>【武漢肺炎・最新】單日新增6宗個案　本港累計42宗</td>\n",
       "      <td>NaN</td>\n",
       "      <td>香港01</td>\n",
       "      <td>2020-02-11 00:03:00</td>\n",
       "      <td>NaN</td>\n",
       "      <td>NaN</td>\n",
       "      <td>NaN</td>\n",
       "      <td>2020-02-10 07:07\\n\\n新型冠狀病毒引起的武漢肺炎病情持續，國家衛健委今日(...</td>\n",
       "    </tr>\n",
       "    <tr>\n",
       "      <td>4</td>\n",
       "      <td>2020021100000006742</td>\n",
       "      <td>14.0</td>\n",
       "      <td>21.0</td>\n",
       "      <td>0.0</td>\n",
       "      <td>NaN</td>\n",
       "      <td>NaN</td>\n",
       "      <td>NaN</td>\n",
       "      <td>NaN</td>\n",
       "      <td>NaN</td>\n",
       "      <td>NaN</td>\n",
       "      <td>NaN</td>\n",
       "      <td>新加坡嚴打違反隔離令人士 處分6僱主 4人被罰永久禁止在當地工作</td>\n",
       "      <td>eee801ed705bc0f540806efac44e2591</td>\n",
       "      <td>香港高登</td>\n",
       "      <td>2020-02-11 00:03:00</td>\n",
       "      <td>NaN</td>\n",
       "      <td>NaN</td>\n",
       "      <td>網民</td>\n",
       "      <td>\\n新加坡確診新型冠狀病毒肺炎的人數周日增至43宗，是繼日本後，中國境外最多人確診的地區，在...</td>\n",
       "    </tr>\n",
       "  </tbody>\n",
       "</table>\n",
       "</div>"
      ],
      "text/plain": [
       "                 docid  comment_count  like_count  dislike_count  love_count  \\\n",
       "0  2020021100002988743            0.0         0.0            0.0         0.0   \n",
       "1  2020021100000087375            9.0        57.0            NaN         0.0   \n",
       "2  2020021100000051790            NaN         0.0            NaN         0.0   \n",
       "3  2020021100000098619            NaN         0.0            0.0         NaN   \n",
       "4  2020021100000006742           14.0        21.0            0.0         NaN   \n",
       "\n",
       "   haha_count  wow_count  angry_count  sad_count  share_count  view_count  \\\n",
       "0         0.0        0.0          0.0        0.0          0.0         0.0   \n",
       "1         0.0        1.0          0.0        6.0          8.0         0.0   \n",
       "2         0.0        0.0          0.0        0.0          0.0       221.0   \n",
       "3         NaN        NaN          NaN        NaN          NaN         0.0   \n",
       "4         NaN        NaN          NaN        NaN          NaN         NaN   \n",
       "\n",
       "                                            headline  \\\n",
       "0                                                黃佩君   \n",
       "1  近日多左人講大陸可能大亂。當然我早兩個禮拜已經從多方面分析過大陸可能出現經濟、社會、政治問題...   \n",
       "2                                         關愛香港，情繫中華！   \n",
       "3                          【武漢肺炎・最新】單日新增6宗個案　本港累計42宗   \n",
       "4                   新加坡嚴打違反隔離令人士 處分6僱主 4人被罰永久禁止在當地工作   \n",
       "\n",
       "                            author*            pubname             pubdate  \\\n",
       "0  2b6b5092d1013c7be4b9cf77f33df8f2  Facebook - 群組 或專頁 2020-02-11 00:01:33   \n",
       "1  d7b198555346a8567a7bbc2a5c808fea  Facebook - 群組 或專頁 2020-02-11 00:01:59   \n",
       "2  77c0271fe5557f54dc91ab4d1feb0117  Facebook - 群組 或專頁 2020-02-11 00:02:02   \n",
       "3                               NaN               香港01 2020-02-11 00:03:00   \n",
       "4  eee801ed705bc0f540806efac44e2591               香港高登 2020-02-11 00:03:00   \n",
       "\n",
       "      region  fans_count author_type  \\\n",
       "0  Hong Kong         0.0        網紅博客   \n",
       "1  Hong Kong      3133.0        網紅博客   \n",
       "2  Hong Kong     18197.0          網民   \n",
       "3        NaN         NaN         NaN   \n",
       "4        NaN         NaN          網民   \n",
       "\n",
       "                                             content  \n",
       "0   \\n=====Shared Post=====\\n 宣佈強制檢疫 政府留兩天半空窗期 入境...  \n",
       "1  近日多左人講大陸可能大亂。當然我早兩個禮拜已經從多方面分析過大陸可能出現經濟、社會、政治問題...  \n",
       "2   \\n=====Shared Post=====\\n  人間有情 人間總充滿溫暖 !彩虹始終...  \n",
       "3  2020-02-10 07:07\\n\\n新型冠狀病毒引起的武漢肺炎病情持續，國家衛健委今日(...  \n",
       "4  \\n新加坡確診新型冠狀病毒肺炎的人數周日增至43宗，是繼日本後，中國境外最多人確診的地區，在...  "
      ]
     },
     "execution_count": 3,
     "metadata": {},
     "output_type": "execute_result"
    }
   ],
   "source": [
    "df.head()"
   ]
  },
  {
   "cell_type": "code",
   "execution_count": 4,
   "metadata": {},
   "outputs": [],
   "source": [
    "df['pubdate'] = pd.to_datetime(df['pubdate'])"
   ]
  },
  {
   "cell_type": "code",
   "execution_count": null,
   "metadata": {},
   "outputs": [],
   "source": [
    "for index, dateti in enumerate(df['pubdate']):\n",
    "    df.loc[index,'date'] = dateti.date()"
   ]
  },
  {
   "cell_type": "code",
   "execution_count": null,
   "metadata": {},
   "outputs": [],
   "source": [
    "df.head()"
   ]
  },
  {
   "cell_type": "code",
   "execution_count": null,
   "metadata": {},
   "outputs": [],
   "source": [
    "df.sort_values(by=\"date\")"
   ]
  },
  {
   "cell_type": "markdown",
   "metadata": {},
   "source": [
    "null values in eng_cols:"
   ]
  },
  {
   "cell_type": "code",
   "execution_count": 4,
   "metadata": {},
   "outputs": [
    {
     "data": {
      "text/plain": [
       "153874"
      ]
     },
     "execution_count": 4,
     "metadata": {},
     "output_type": "execute_result"
    }
   ],
   "source": [
    "df['comment_count'].isnull().sum()"
   ]
  },
  {
   "cell_type": "code",
   "execution_count": 6,
   "metadata": {},
   "outputs": [
    {
     "data": {
      "text/plain": [
       "13763"
      ]
     },
     "execution_count": 6,
     "metadata": {},
     "output_type": "execute_result"
    }
   ],
   "source": [
    "df['like_count'].isnull().sum()"
   ]
  },
  {
   "cell_type": "code",
   "execution_count": 7,
   "metadata": {},
   "outputs": [
    {
     "data": {
      "text/plain": [
       "98252"
      ]
     },
     "execution_count": 7,
     "metadata": {},
     "output_type": "execute_result"
    }
   ],
   "source": [
    "df['share_count'].isnull().sum()"
   ]
  },
  {
   "cell_type": "code",
   "execution_count": 9,
   "metadata": {},
   "outputs": [
    {
     "data": {
      "text/plain": [
       "79701"
      ]
     },
     "execution_count": 9,
     "metadata": {},
     "output_type": "execute_result"
    }
   ],
   "source": [
    "df['view_count'].isnull().sum()"
   ]
  },
  {
   "cell_type": "markdown",
   "metadata": {},
   "source": [
    "according to following command, 'docid' column must be dropped:"
   ]
  },
  {
   "cell_type": "code",
   "execution_count": 6,
   "metadata": {},
   "outputs": [
    {
     "data": {
      "text/plain": [
       "444281"
      ]
     },
     "execution_count": 6,
     "metadata": {},
     "output_type": "execute_result"
    }
   ],
   "source": [
    "len(df['docid'].value_counts())"
   ]
  },
  {
   "cell_type": "markdown",
   "metadata": {},
   "source": [
    "it is better to drop also 'author*' column:"
   ]
  },
  {
   "cell_type": "code",
   "execution_count": 7,
   "metadata": {},
   "outputs": [
    {
     "data": {
      "text/plain": [
       "21604"
      ]
     },
     "execution_count": 7,
     "metadata": {},
     "output_type": "execute_result"
    }
   ],
   "source": [
    "len(df['author*'].value_counts())"
   ]
  },
  {
   "cell_type": "markdown",
   "metadata": {},
   "source": [
    "we must drop 'region' column too:"
   ]
  },
  {
   "cell_type": "code",
   "execution_count": 8,
   "metadata": {},
   "outputs": [
    {
     "data": {
      "text/plain": [
       "1"
      ]
     },
     "execution_count": 8,
     "metadata": {},
     "output_type": "execute_result"
    }
   ],
   "source": [
    "len(df['region'].value_counts())"
   ]
  },
  {
   "cell_type": "code",
   "execution_count": 9,
   "metadata": {},
   "outputs": [
    {
     "data": {
      "text/plain": [
       "8"
      ]
     },
     "execution_count": 9,
     "metadata": {},
     "output_type": "execute_result"
    }
   ],
   "source": [
    "len(df['author_type'].value_counts())"
   ]
  },
  {
   "cell_type": "markdown",
   "metadata": {},
   "source": [
    "number of blank contents:"
   ]
  },
  {
   "cell_type": "code",
   "execution_count": 10,
   "metadata": {},
   "outputs": [
    {
     "data": {
      "text/plain": [
       "4498"
      ]
     },
     "execution_count": 10,
     "metadata": {},
     "output_type": "execute_result"
    }
   ],
   "source": [
    "holder = 0\n",
    "\n",
    "for content in df['content']:\n",
    "    content = str(content)\n",
    "    if content == 'nan':\n",
    "        holder += 1\n",
    "\n",
    "holder"
   ]
  },
  {
   "cell_type": "markdown",
   "metadata": {},
   "source": [
    "number of shared posts:"
   ]
  },
  {
   "cell_type": "code",
   "execution_count": 11,
   "metadata": {},
   "outputs": [
    {
     "data": {
      "text/plain": [
       "234913"
      ]
     },
     "execution_count": 11,
     "metadata": {},
     "output_type": "execute_result"
    }
   ],
   "source": [
    "holder = 0\n",
    "\n",
    "for content in df['content']:\n",
    "    content = str(content)\n",
    "    if 'Shared Post' in content:\n",
    "        holder += 1\n",
    "\n",
    "holder"
   ]
  },
  {
   "cell_type": "code",
   "execution_count": null,
   "metadata": {},
   "outputs": [],
   "source": [
    "dates = []\n",
    "\n",
    "for date in df['pubdate']:\n",
    "    if date not in dates:\n",
    "        dates.append(date)\n",
    "\n",
    "dates"
   ]
  }
 ],
 "metadata": {
  "kernelspec": {
   "display_name": "Python 3",
   "language": "python",
   "name": "python3"
  },
  "language_info": {
   "codemirror_mode": {
    "name": "ipython",
    "version": 3
   },
   "file_extension": ".py",
   "mimetype": "text/x-python",
   "name": "python",
   "nbconvert_exporter": "python",
   "pygments_lexer": "ipython3",
   "version": "3.7.4"
  }
 },
 "nbformat": 4,
 "nbformat_minor": 2
}
