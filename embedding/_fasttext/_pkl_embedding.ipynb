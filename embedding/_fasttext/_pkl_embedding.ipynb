{
 "cells": [
  {
   "cell_type": "code",
   "execution_count": 1,
   "metadata": {},
   "outputs": [],
   "source": [
    "import pickle\n",
    "import json\n",
    "\n",
    "import fasttext\n",
    "import fasttext.util"
   ]
  },
  {
   "cell_type": "code",
   "execution_count": null,
   "metadata": {},
   "outputs": [],
   "source": [
    "# !wget https://github.com/facebookresearch/fastText/archive/v0.9.2.zip"
   ]
  },
  {
   "cell_type": "code",
   "execution_count": 1,
   "metadata": {},
   "outputs": [],
   "source": [
    "# import zipfile\n",
    "\n",
    "# target = 'v0.9.2.zip'\n",
    "\n",
    "# handle = zipfile.ZipFile(target)\n",
    "# handle.extractall()\n",
    "# handle.close()"
   ]
  },
  {
   "cell_type": "code",
   "execution_count": 2,
   "metadata": {},
   "outputs": [
    {
     "name": "stdout",
     "output_type": "stream",
     "text": [
      "[WinError 2] The system cannot find the file specified: '../fastText-0.9.2'\n",
      "C:\\Users\\Pishtaz\\Desktop\\DrAsghari\\CBSA\\embedding\n"
     ]
    }
   ],
   "source": [
    "# cd ../fastText-0.9.2"
   ]
  },
  {
   "cell_type": "code",
   "execution_count": 2,
   "metadata": {},
   "outputs": [],
   "source": [
    "def pkl_embeddings(emb_dimension, unique_words):\n",
    "    chin_emb_dir = \"./cc.zh.300.bin\"\n",
    "    \n",
    "    word_embedding = {300:{}, 200:{}, 100:{}}\n",
    "\n",
    "    ft = fasttext.load_model(chin_emb_dir)\n",
    "\n",
    "    if emb_dimension == 300:\n",
    "        for word in unique_words:\n",
    "            word_embedding[emb_dimension][word] = ft.get_word_vector(word)\n",
    "\n",
    "        with open(f'./my_embeddings/fasttext_embedding_{emb_dimension}_pretrained.pkl','wb') as f:\n",
    "            pickle.dump(word_embedding, f) \n",
    "\n",
    "    elif emb_dimension == 200:\n",
    "        fasttext.util.reduce_model(ft, 200)\n",
    "\n",
    "        for word in unique_words:\n",
    "            word_embedding[emb_dimension][word] = ft.get_word_vector(word)\n",
    "\n",
    "        with open(f'./my_embeddings/fasttext_embedding_{emb_dimension}_pretrained.pkl','wb') as f:\n",
    "            pickle.dump(word_embedding, f)\n",
    "\n",
    "    elif emb_dimension == 100:\n",
    "        fasttext.util.reduce_model(ft, 100)\n",
    "\n",
    "        for word in unique_words:\n",
    "            word_embedding[emb_dimension][word] = ft.get_word_vector(word)\n",
    "\n",
    "        with open(f'./my_embeddings/fasttext_embedding_{emb_dimension}_pretrained.pkl','wb') as f:\n",
    "            pickle.dump(word_embedding, f)"
   ]
  },
  {
   "cell_type": "code",
   "execution_count": 3,
   "metadata": {},
   "outputs": [
    {
     "data": {
      "text/plain": [
       "30117"
      ]
     },
     "execution_count": 3,
     "metadata": {},
     "output_type": "execute_result"
    }
   ],
   "source": [
    "with open('../corpus.json', 'r', encoding='utf-8-sig') as f:\n",
    "    vocab_lst = json.load(f)\n",
    "    vocab_lst = vocab_lst.split(' ')\n",
    "    \n",
    "len(vocab_lst)"
   ]
  },
  {
   "cell_type": "code",
   "execution_count": 4,
   "metadata": {},
   "outputs": [
    {
     "data": {
      "text/plain": [
       "3367"
      ]
     },
     "execution_count": 4,
     "metadata": {},
     "output_type": "execute_result"
    }
   ],
   "source": [
    "unique_words = []\n",
    "\n",
    "for token in vocab_lst:\n",
    "    if token not in unique_words:\n",
    "        unique_words.append(token)\n",
    "\n",
    "len(unique_words)"
   ]
  },
  {
   "cell_type": "code",
   "execution_count": 7,
   "metadata": {},
   "outputs": [
    {
     "name": "stderr",
     "output_type": "stream",
     "text": [
      "Warning : `load_model` does not return WordVectorModel or SupervisedModel any more, but a `FastText` object which is very similar.\n"
     ]
    }
   ],
   "source": [
    "# emb_dimension = 100\n",
    "\n",
    "for emb_dimension in [100, 200, 300]:\n",
    "\n",
    "    pkl_embeddings(emb_dimension = emb_dimension,\n",
    "              unique_words = unique_words)"
   ]
  },
  {
   "cell_type": "code",
   "execution_count": 7,
   "metadata": {},
   "outputs": [
    {
     "name": "stderr",
     "output_type": "stream",
     "text": [
      "Warning : `load_model` does not return WordVectorModel or SupervisedModel any more, but a `FastText` object which is very similar.\n"
     ]
    }
   ],
   "source": [
    "# word_embedding = {300:{}, 200:{}, 100:{}}\n",
    "# emb_dimension = 300\n",
    "# chin_emb_dir = \"./cc.zh.300.bin\"\n",
    "# ft = fasttext.load_model(chin_emb_dir)\n",
    "\n",
    "# for word in unique_words:\n",
    "#     word_embedding[emb_dimension][word] = ft.get_word_vector(word)\n",
    "\n",
    "# with open(f'./my_embeddings/fasttext_embedding_{emb_dimension}_pretrained.pkl','wb') as f:\n",
    "#     pickle.dump(word_embedding, f) "
   ]
  },
  {
   "cell_type": "code",
   "execution_count": null,
   "metadata": {},
   "outputs": [],
   "source": []
  }
 ],
 "metadata": {
  "kernelspec": {
   "display_name": "Python 3",
   "language": "python",
   "name": "python3"
  },
  "language_info": {
   "codemirror_mode": {
    "name": "ipython",
    "version": 3
   },
   "file_extension": ".py",
   "mimetype": "text/x-python",
   "name": "python",
   "nbconvert_exporter": "python",
   "pygments_lexer": "ipython3",
   "version": "3.8.7"
  }
 },
 "nbformat": 4,
 "nbformat_minor": 2
}
